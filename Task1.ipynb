{
  "nbformat": 4,
  "nbformat_minor": 0,
  "metadata": {
    "colab": {
      "provenance": [],
      "authorship_tag": "ABX9TyPjIR+0bs9bEd+tIUpDP47e",
      "include_colab_link": true
    },
    "kernelspec": {
      "name": "python3",
      "display_name": "Python 3"
    },
    "language_info": {
      "name": "python"
    }
  },
  "cells": [
    {
      "cell_type": "markdown",
      "metadata": {
        "id": "view-in-github",
        "colab_type": "text"
      },
      "source": [
        "<a href=\"https://colab.research.google.com/github/Digvijay4252/data_scince_algorithm/blob/main/Task1.ipynb\" target=\"_parent\"><img src=\"https://colab.research.google.com/assets/colab-badge.svg\" alt=\"Open In Colab\"/></a>"
      ]
    },
    {
      "cell_type": "markdown",
      "source": [
        "#**LinearRegression()**\n",
        "\n",
        "I am using LinearRegression() in this program because my goal is to predict a numeric value—the test score—based on other numeric inputs like GPA and hours studied. Linear regression is the most appropriate algorithm when the output (target variable) is continuous, and there is an assumed linear relationship between the inputs and the output."
      ],
      "metadata": {
        "id": "-jXgwMH7TnrP"
      }
    },
    {
      "cell_type": "code",
      "execution_count": 13,
      "metadata": {
        "colab": {
          "base_uri": "https://localhost:8080/"
        },
        "id": "PX8bUK1FHmHT",
        "outputId": "fbe693c6-7355-4c66-c2b0-61b6840faae3"
      },
      "outputs": [
        {
          "output_type": "stream",
          "name": "stderr",
          "text": [
            "/usr/local/lib/python3.11/dist-packages/sklearn/utils/validation.py:2739: UserWarning: X does not have valid feature names, but LinearRegression was fitted with feature names\n",
            "  warnings.warn(\n"
          ]
        },
        {
          "output_type": "execute_result",
          "data": {
            "text/plain": [
              "array([80.83952902, 54.38301093])"
            ]
          },
          "metadata": {},
          "execution_count": 13
        }
      ],
      "source": [
        "import pandas as pd\n",
        "from sklearn.linear_model import LinearRegression\n",
        "\n",
        "data = pd.read_csv('/content/college_data.csv')\n",
        "\n",
        "output_dataset = data['TestScore']\n",
        "input_dataset = data[['GPA', 'StudyHours']]\n",
        "\n",
        "score_model = LinearRegression()\n",
        "score_model.fit(input_dataset, output_dataset)\n",
        "\n",
        "score_predictions = score_model.predict([[3.5, 18], [2.3, 6]])\n",
        "score_predictions"
      ]
    },
    {
      "cell_type": "markdown",
      "source": [
        "# **LogisticRegression()**\n",
        "\n",
        "i am using LogisticRegression() in this program because my goal is to predict a categorical outcome—specifically whether a student will Pass or Fail. Logistic regression is well-suited for binary classification tasks where the target variable has only two possible values, such as 0 and 1. In this case, I have converted the \"FinalResult\" column into binary form (Fail = 0, Pass = 1) and used features like GPA, test score, and internet access to predict this outcome."
      ],
      "metadata": {
        "id": "l564-md-UPM5"
      }
    },
    {
      "cell_type": "code",
      "source": [
        "import pandas as pd\n",
        "from sklearn.linear_model import LogisticRegression\n",
        "\n",
        "data = pd.read_csv('/content/college_data.csv')\n",
        "\n",
        "data['FinalResult'] = data['FinalResult'].map({'Fail': 0, 'Pass': 1})\n",
        "data['Internet']=data['Internet'].map({'No': 0, 'Yes': 1})\n",
        "\n",
        "output_dataset = data['FinalResult']\n",
        "input_dataset = data[['GPA', 'TestScore', 'Internet']]\n",
        "\n",
        "result_model = LogisticRegression()\n",
        "result_model.fit(input_dataset, output_dataset)\n",
        "\n",
        "result_predictions = result_model.predict([[3.5, 55, 0], [4.3, 75, 1]])\n",
        "num=result_predictions\n",
        "\n",
        "for i in num:\n",
        "  if(i==0):\n",
        "    print(\"Fail\")\n",
        "  else:\n",
        "    print(\"Pass\")\n"
      ],
      "metadata": {
        "id": "cQlZkRqUHvGi",
        "colab": {
          "base_uri": "https://localhost:8080/"
        },
        "outputId": "ac787a97-3a49-4c5c-f11e-2d10f912dfcb"
      },
      "execution_count": 20,
      "outputs": [
        {
          "output_type": "stream",
          "name": "stdout",
          "text": [
            "Fail\n",
            "Pass\n"
          ]
        },
        {
          "output_type": "stream",
          "name": "stderr",
          "text": [
            "/usr/local/lib/python3.11/dist-packages/sklearn/utils/validation.py:2739: UserWarning: X does not have valid feature names, but LogisticRegression was fitted with feature names\n",
            "  warnings.warn(\n"
          ]
        }
      ]
    },
    {
      "cell_type": "markdown",
      "source": [
        "# **DecisionTreeClassifier()**\n",
        "\n",
        "I am using DecisionTreeClassifier() in this program because my task is to predict a categorical output—specifically whether a student has internet access at home (Yes or No). Decision trees are ideal for classification problems where the target variable consists of discrete classes. In this case, the \"Internet\" column has been mapped to binary values (No = 0, Yes = 1), making it suitable for classification. I am using features such as GPA, test score, final result, and study hours as inputs, and the decision tree learns a set of rules or conditions from this data to classify new examples"
      ],
      "metadata": {
        "id": "mQ3ZZqpXVDWt"
      }
    },
    {
      "cell_type": "code",
      "source": [
        "import pandas as pd\n",
        "from sklearn.tree import DecisionTreeClassifier\n",
        "\n",
        "data = pd.read_csv('college_data.csv')\n",
        "data['FinalResult'] = data['FinalResult'].map({'Fail': 0, 'Pass': 1})\n",
        "data['Internet']=data['Internet'].map({'No': 0, 'Yes': 1})\n",
        "\n",
        "\n",
        "output_dataset = data['Internet']\n",
        "input_dataset = data[['GPA', 'TestScore', 'FinalResult','StudyHours']]\n",
        "\n",
        "grade_model = DecisionTreeClassifier()\n",
        "grade_model.fit(input_dataset, output_dataset)\n",
        "\n",
        "grade_predictions = grade_model.predict([[3.5, 85, 1,13], [2.3, 58, 0,8]])\n",
        "grade_predictions\n",
        "\n",
        "\n",
        "for i in num:\n",
        "  if(i==0):\n",
        "    print(\"No\")\n",
        "  else:\n",
        "    print(\"Yes\")"
      ],
      "metadata": {
        "colab": {
          "base_uri": "https://localhost:8080/"
        },
        "id": "oirwDWX1Nt_0",
        "outputId": "3127e412-7bbf-41da-8b97-567e9d37d222"
      },
      "execution_count": 29,
      "outputs": [
        {
          "output_type": "stream",
          "name": "stdout",
          "text": [
            "No\n",
            "Yes\n"
          ]
        },
        {
          "output_type": "stream",
          "name": "stderr",
          "text": [
            "/usr/local/lib/python3.11/dist-packages/sklearn/utils/validation.py:2739: UserWarning: X does not have valid feature names, but DecisionTreeClassifier was fitted with feature names\n",
            "  warnings.warn(\n"
          ]
        }
      ]
    },
    {
      "cell_type": "code",
      "source": [],
      "metadata": {
        "id": "loYj5jm5QFVw"
      },
      "execution_count": null,
      "outputs": []
    }
  ]
}